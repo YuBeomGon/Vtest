{
 "cells": [
  {
   "cell_type": "code",
   "execution_count": 1,
   "id": "5d445bae-5efb-46ac-84af-8d21291b16d8",
   "metadata": {},
   "outputs": [
    {
     "name": "stderr",
     "output_type": "stream",
     "text": [
      "/home/beomgon/anaconda3/envs/pytorch/lib/python3.8/site-packages/tqdm/auto.py:22: TqdmWarning: IProgress not found. Please update jupyter and ipywidgets. See https://ipywidgets.readthedocs.io/en/stable/user_install.html\n",
      "  from .autonotebook import tqdm as notebook_tqdm\n"
     ]
    }
   ],
   "source": [
    "import torchvision.datasets as datasets\n",
    "import torchvision.models as models\n",
    "import torchvision.transforms as transforms\n",
    "# from torch.optim.lr_scheduler import StepLR\n",
    "# from torch.utils.data import Subset\n",
    "\n",
    "model_names = sorted(name for name in models.__dict__\n",
    "    if name.islower() and not name.startswith(\"__\")\n",
    "    and callable(models.__dict__[name]))\n",
    "\n",
    "from resnet_dct import *"
   ]
  },
  {
   "cell_type": "code",
   "execution_count": 2,
   "id": "4a492267-a4ea-42ad-9c96-f8de69956a15",
   "metadata": {},
   "outputs": [],
   "source": [
    "# from torchvision.models.resnet import *\n",
    "# from torchvision.models.resnet import BasicBlock\n",
    "# BasicBlock(3,6)"
   ]
  },
  {
   "cell_type": "code",
   "execution_count": 3,
   "id": "bb7cc2a3-889f-4cdb-afc2-5743a33dc788",
   "metadata": {},
   "outputs": [],
   "source": [
    "model_dct = resnet18_dct()\n"
   ]
  },
  {
   "cell_type": "code",
   "execution_count": 4,
   "id": "0c098e90-72d3-4474-8103-597c145b414d",
   "metadata": {},
   "outputs": [],
   "source": [
    "# torch.save(model_dct.state_dict(), 'resnet18_dct.pth')"
   ]
  },
  {
   "cell_type": "code",
   "execution_count": 5,
   "id": "777ef41a-a803-4e04-b90a-16bf41fbe32b",
   "metadata": {},
   "outputs": [],
   "source": [
    "# model_arch = 'resnet18'\n",
    "# model = models.__dict__[model_arch](pretrained=True)\n",
    "# torch.save(model.state_dict(), 'resnet18.pth')"
   ]
  },
  {
   "cell_type": "code",
   "execution_count": 6,
   "id": "8e60e2db-88f1-4b4d-a83e-ae6337f8f517",
   "metadata": {},
   "outputs": [
    {
     "name": "stdout",
     "output_type": "stream",
     "text": [
      "torch.Size([2, 3, 224, 224])\n",
      "torch.Size([2, 192, 28, 28])\n",
      "torch.Size([2, 256, 28, 28])\n"
     ]
    }
   ],
   "source": [
    "out = model_dct(torch.randn(2,3,224,224))"
   ]
  },
  {
   "cell_type": "code",
   "execution_count": 7,
   "id": "dffb4584-e2c8-4175-8302-7e41ba90f842",
   "metadata": {},
   "outputs": [],
   "source": [
    "import torch\n",
    "a = torch.randn(2,1,8,8)\n",
    "b = torch.randn(2,1,8,8)"
   ]
  },
  {
   "cell_type": "code",
   "execution_count": 8,
   "id": "83903946-4965-4c45-99de-761287bae395",
   "metadata": {},
   "outputs": [
    {
     "data": {
      "text/plain": [
       "torch.Size([2, 2, 8, 8])"
      ]
     },
     "execution_count": 8,
     "metadata": {},
     "output_type": "execute_result"
    }
   ],
   "source": [
    "c = torch.cat([a,b], dim=1)\n",
    "c.shape"
   ]
  },
  {
   "cell_type": "code",
   "execution_count": 9,
   "id": "79777b6a-cd38-4de1-9cdf-0aa74292043a",
   "metadata": {},
   "outputs": [
    {
     "name": "stdout",
     "output_type": "stream",
     "text": [
      "total 90360\n",
      "drwxrwxr-x 4 beomgon beomgon     4096 10월 26 17:01 .\n",
      "drwxrwxr-x 4 beomgon beomgon     4096 10월 26 09:23 ..\n",
      "-rw-rw-r-- 1 beomgon beomgon   108159 10월 26 16:07 dct_conv.ipynb\n",
      "-rw-rw-r-- 1 beomgon beomgon   312971 10월 26 14:12 dct_demo.ipynb\n",
      "-rw-rw-r-- 1 beomgon beomgon   448668 10월 26 13:50 dct.ipynb\n",
      "-rw-rw-r-- 1 beomgon beomgon   998698 10월 26 13:01 dct_transform.ipynb\n",
      "-rw-rw-r-- 1 beomgon beomgon    53170  5월 29  2021 dog.jpg\n",
      "drwxrwxr-x 2 beomgon beomgon     4096 10월 26 16:09 .ipynb_checkpoints\n",
      "-rw-rw-r-- 1 beomgon beomgon    20339 10월 26 15:48 main.py\n",
      "drwxrwxr-x 2 beomgon beomgon     4096 10월 26 17:01 __pycache__\n",
      "-rw-rw-r-- 1 beomgon beomgon 43635106 10월 26 16:51 resnet18_dct.pth\n",
      "-rw-rw-r-- 1 beomgon beomgon 46834317 10월 26 16:29 resnet18.pth\n",
      "-rw-rw-r-- 1 beomgon beomgon     7195 10월 26 17:01 resnet_dct.py\n",
      "-rw-rw-r-- 1 beomgon beomgon    17943 10월 26 17:01 resnet.ipynb\n",
      "-rw-rw-r-- 1 beomgon beomgon    54752 11월 16  2020 zelda.png\n"
     ]
    }
   ],
   "source": [
    "!ls -al"
   ]
  },
  {
   "cell_type": "code",
   "execution_count": null,
   "id": "b1f61b3f-03c3-4b2b-9103-0353d35089ba",
   "metadata": {},
   "outputs": [],
   "source": []
  },
  {
   "cell_type": "code",
   "execution_count": null,
   "id": "aec8c302-e906-4213-84c4-dacc2be85995",
   "metadata": {},
   "outputs": [],
   "source": []
  },
  {
   "cell_type": "code",
   "execution_count": null,
   "id": "3d068c29-5a9a-4c76-83e5-9b31e5884a39",
   "metadata": {},
   "outputs": [],
   "source": []
  },
  {
   "cell_type": "code",
   "execution_count": null,
   "id": "2829baa9-bd36-4af1-ae09-15b393a33b3b",
   "metadata": {},
   "outputs": [],
   "source": []
  },
  {
   "cell_type": "code",
   "execution_count": null,
   "id": "29916c7d-0fe4-4f39-8b9a-a169cdfc9dae",
   "metadata": {},
   "outputs": [],
   "source": []
  },
  {
   "cell_type": "code",
   "execution_count": null,
   "id": "d10fb3e2-ab1e-4cd0-a87a-c57bf873a85e",
   "metadata": {},
   "outputs": [],
   "source": []
  }
 ],
 "metadata": {
  "kernelspec": {
   "display_name": "pytorch",
   "language": "python",
   "name": "pytorch"
  },
  "language_info": {
   "codemirror_mode": {
    "name": "ipython",
    "version": 3
   },
   "file_extension": ".py",
   "mimetype": "text/x-python",
   "name": "python",
   "nbconvert_exporter": "python",
   "pygments_lexer": "ipython3",
   "version": "3.8.13"
  }
 },
 "nbformat": 4,
 "nbformat_minor": 5
}
