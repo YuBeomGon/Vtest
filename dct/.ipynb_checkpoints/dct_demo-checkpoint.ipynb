{
 "cells": [
  {
   "cell_type": "code",
   "execution_count": 1,
   "id": "44055446-5bb3-4a08-9b8b-2c31ba07d64d",
   "metadata": {},
   "outputs": [],
   "source": [
    "# https://inst.eecs.berkeley.edu/~ee123/sp16/Sections/JPEG_DCT_Demo.html"
   ]
  },
  {
   "cell_type": "code",
   "execution_count": 2,
   "id": "0729437b-4d21-49d9-a6e7-d207657ec5b5",
   "metadata": {},
   "outputs": [],
   "source": [
    "# Import functions and libraries\n",
    "import numpy as np\n",
    "import matplotlib.pyplot as plt\n",
    "import scipy\n",
    "\n",
    "from numpy import pi\n",
    "from numpy import sin\n",
    "from numpy import zeros\n",
    "from numpy import r_\n",
    "from scipy import signal\n",
    "from scipy import misc # pip install Pillow\n",
    "import matplotlib.pylab as pylab\n",
    "\n",
    "%matplotlib inline\n",
    "pylab.rcParams['figure.figsize'] = (20.0, 7.0)"
   ]
  },
  {
   "cell_type": "code",
   "execution_count": 3,
   "id": "7d1cbd07-c93d-4d69-b1db-d2d62ebc2484",
   "metadata": {},
   "outputs": [
    {
     "name": "stdout",
     "output_type": "stream",
     "text": [
      "--2022-10-26 14:02:01--  https://imagemagick.org/Usage/img_photos/zelda3_orig.png\n",
      "Resolving imagemagick.org (imagemagick.org)... 50.251.58.13\n",
      "Connecting to imagemagick.org (imagemagick.org)|50.251.58.13|:443... connected.\n",
      "HTTP request sent, awaiting response... 200 OK\n",
      "Length: 54752 (53K) [image/png]\n",
      "Saving to: ‘zelda3_orig.png’\n",
      "\n",
      "zelda3_orig.png     100%[===================>]  53.47K   132KB/s    in 0.4s    \n",
      "\n",
      "2022-10-26 14:02:02 (132 KB/s) - ‘zelda3_orig.png’ saved [54752/54752]\n",
      "\n"
     ]
    }
   ],
   "source": [
    "# !wget https://imagemagick.org/Usage/img_photos/zelda3_orig.png"
   ]
  },
  {
   "cell_type": "code",
   "execution_count": null,
   "id": "6b07bd92-c676-4785-8a83-5034158886e8",
   "metadata": {},
   "outputs": [],
   "source": [
    "im = misc.imread(\"zelda.tif\").astype(float)"
   ]
  }
 ],
 "metadata": {
  "kernelspec": {
   "display_name": "pytorch",
   "language": "python",
   "name": "pytorch"
  },
  "language_info": {
   "codemirror_mode": {
    "name": "ipython",
    "version": 3
   },
   "file_extension": ".py",
   "mimetype": "text/x-python",
   "name": "python",
   "nbconvert_exporter": "python",
   "pygments_lexer": "ipython3",
   "version": "3.8.13"
  }
 },
 "nbformat": 4,
 "nbformat_minor": 5
}
